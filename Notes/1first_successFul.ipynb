{
 "metadata": {
  "orig_nbformat": 2,
  "kernelspec": {
   "name": "python3",
   "display_name": "Python 3",
   "language": "python"
  }
 },
 "nbformat": 4,
 "nbformat_minor": 2,
 "cells": [
  {
   "source": [
    "# Notebook Aim \n",
    "\n",
    "*   Choose  the  start_point as Default(meaning from a fixed Postion)\n",
    "*   Choose the Default car as `bmw isetta` and color black for default delivery car"
   ],
   "cell_type": "markdown",
   "metadata": {}
  },
  {
   "cell_type": "code",
   "execution_count": 1,
   "metadata": {},
   "outputs": [
    {
     "output_type": "stream",
     "name": "stdout",
     "text": [
      "pygame 2.0.1 (SDL 2.0.14, Python 3.7.10)\nHello from the pygame community. https://www.pygame.org/contribute.html\n"
     ]
    }
   ],
   "source": [
    "\n",
    "# importing the necessary libraries \n",
    "from __future__ import print_function\n",
    "import glob\n",
    "import os\n",
    "import sys\n",
    "import random\n",
    "import time\n",
    "import numpy as np\n",
    "import cv2\n",
    "\n",
    "\n",
    "try:\n",
    "    sys.path.append(glob.glob('../carla/dist/carla-*%d.%d-%s.egg' % (\n",
    "        sys.version_info.major,\n",
    "        sys.version_info.minor,\n",
    "        'win-amd64' if os.name == 'nt' else 'linux-x86_64'))[0])\n",
    "except IndexError:\n",
    "    pass\n",
    "\n",
    "\n",
    "\n",
    "import argparse\n",
    "import collections\n",
    "import datetime\n",
    "import glob\n",
    "import logging\n",
    "import math\n",
    "import os\n",
    "import random\n",
    "import re\n",
    "import sys\n",
    "import weakref\n",
    "\n",
    "try:\n",
    "    import pygame\n",
    "    from pygame.locals import KMOD_CTRL\n",
    "    from pygame.locals import K_ESCAPE\n",
    "    from pygame.locals import K_q\n",
    "except ImportError:\n",
    "    raise RuntimeError('cannot import pygame, make sure pygame package is installed')\n",
    "\n",
    "try:\n",
    "    import numpy as np\n",
    "except ImportError:\n",
    "    raise RuntimeError(\n",
    "        'cannot import numpy, make sure numpy package is installed')"
   ]
  },
  {
   "cell_type": "code",
   "execution_count": 2,
   "metadata": {},
   "outputs": [],
   "source": [
    "\n",
    "# for working with the carla api we must install python 3.7 \n",
    "import carla\n",
    "from carla import ColorConverter as cc\n",
    "\n",
    "# check for the carla libraries \n",
    "try:\n",
    "    sys.path.append(os.path.dirname(os.path.dirname(os.path.abspath('__file__'))) + '/carla')\n",
    "except IndexError:\n",
    "    pass\n",
    "from agents.navigation.behavior_agent import BehaviorAgent  # pylint: disable=import-error\n",
    "from agents.navigation.roaming_agent import RoamingAgent  # pylint: disable=import-error\n",
    "from agents.navigation.basic_agent import BasicAgent  # pylint: disable=import-error"
   ]
  },
  {
   "cell_type": "code",
   "execution_count": 3,
   "metadata": {},
   "outputs": [],
   "source": [
    "# Step First is to import connect the carla front end to our terminal \n",
    "client = carla.Client('127.0.0.1', 2000)\n",
    "client.set_timeout(2.0)\n"
   ]
  },
  {
   "cell_type": "code",
   "execution_count": 4,
   "metadata": {},
   "outputs": [],
   "source": [
    "# now we have connected then we will try to access the world \n",
    "\n",
    "world = client.get_world()"
   ]
  },
  {
   "cell_type": "code",
   "execution_count": 5,
   "metadata": {},
   "outputs": [
    {
     "output_type": "stream",
     "name": "stdout",
     "text": [
      "ActorBlueprint(id=vehicle.bmw.isetta,tags=[vehicle, bmw, isetta])\n"
     ]
    }
   ],
   "source": [
    "# blueprint library contains the vehilce\n",
    "blueprint_library =  world.get_blueprint_library()\n",
    "# imprting the vechiles from the lib. \n",
    "all_Cars =  blueprint_library.filter('vehicle')\n",
    "print(all_Cars[8])\n",
    "bp = all_Cars[8]\n"
   ]
  },
  {
   "cell_type": "code",
   "execution_count": 6,
   "metadata": {},
   "outputs": [],
   "source": [
    "# Now setting the color \n",
    "\n",
    "color = bp.get_attribute('color').recommended_values[1]\n",
    "bp.set_attribute('color', color)"
   ]
  },
  {
   "cell_type": "code",
   "execution_count": 7,
   "metadata": {},
   "outputs": [],
   "source": [
    "# Now Setting the spawning point \n",
    "transform_experiment = world.get_map().get_spawn_points()\n",
    "transform = transform_experiment[7]\n",
    "vechile_spawn = world.spawn_actor(bp, transform)\n"
   ]
  },
  {
   "cell_type": "code",
   "execution_count": 8,
   "metadata": {},
   "outputs": [],
   "source": [
    "# Now Setting the destination point \n",
    "\n",
    "destination_point = transform_experiment[234]\n",
    "vechile_spawn = world.spawn_actor(bp, destination_point)"
   ]
  },
  {
   "cell_type": "code",
   "execution_count": 10,
   "metadata": {},
   "outputs": [
    {
     "output_type": "stream",
     "name": "stdout",
     "text": [
      "Transform(Location(x=134.911606, y=-75.612572, z=8.305596), Rotation(pitch=0.000000, yaw=-178.490875, roll=0.000000))\n"
     ]
    }
   ],
   "source": [
    "print(destination_point)"
   ]
  },
  {
   "cell_type": "code",
   "execution_count": 11,
   "metadata": {},
   "outputs": [
    {
     "output_type": "stream",
     "name": "stdout",
     "text": [
      "Transform(Location(x=-2.948311, y=-78.932617, z=0.275307), Rotation(pitch=0.000000, yaw=92.004189, roll=0.000000))\n"
     ]
    }
   ],
   "source": [
    "print(transform)"
   ]
  },
  {
   "cell_type": "code",
   "execution_count": null,
   "metadata": {},
   "outputs": [],
   "source": []
  }
 ]
}